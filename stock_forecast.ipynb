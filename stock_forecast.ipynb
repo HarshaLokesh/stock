{
  "nbformat": 4,
  "nbformat_minor": 0,
  "metadata": {
    "colab": {
      "name": "stock_forecast.ipynb",
      "provenance": []
    },
    "kernelspec": {
      "name": "python3",
      "display_name": "Python 3"
    },
    "language_info": {
      "name": "python"
    }
  },
  "cells": [
    {
      "cell_type": "code",
      "execution_count": null,
      "metadata": {
        "id": "JPNeh2hUMCDC"
      },
      "outputs": [],
      "source": [
        "import numpy as np\n",
        "import pandas as pd\n",
        "from sklearn.metrics import accuracy_score\n",
        "from sklearn.metrics import mean_squared_error\n",
        "import matplotlib.pyplot as plt"
      ]
    },
    {
      "cell_type": "code",
      "source": [
        "from google.colab import files\n",
        "uploaded = files.upload()"
      ],
      "metadata": {
        "colab": {
          "resources": {
            "http://localhost:8080/nbextensions/google.colab/files.js": {
              "data": "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",
              "ok": true,
              "headers": [
                [
                  "content-type",
                  "application/javascript"
                ]
              ],
              "status": 200,
              "status_text": "OK"
            }
          },
          "base_uri": "https://localhost:8080/",
          "height": 75
        },
        "id": "ub_4AeWCN--i",
        "outputId": "8d86f0d8-e33b-43ce-dd61-4ad02dc21507"
      },
      "execution_count": null,
      "outputs": [
        {
          "output_type": "display_data",
          "data": {
            "text/html": [
              "\n",
              "     <input type=\"file\" id=\"files-a9e7825a-06f5-44ae-88fc-4f5ae662bb1f\" name=\"files[]\" multiple disabled\n",
              "        style=\"border:none\" />\n",
              "     <output id=\"result-a9e7825a-06f5-44ae-88fc-4f5ae662bb1f\">\n",
              "      Upload widget is only available when the cell has been executed in the\n",
              "      current browser session. Please rerun this cell to enable.\n",
              "      </output>\n",
              "      <script src=\"/nbextensions/google.colab/files.js\"></script> "
            ],
            "text/plain": [
              "<IPython.core.display.HTML object>"
            ]
          },
          "metadata": {}
        },
        {
          "output_type": "stream",
          "name": "stdout",
          "text": [
            "Saving powergrid.csv to powergrid.csv\n"
          ]
        }
      ]
    },
    {
      "cell_type": "code",
      "source": [
        "df = pd.read_csv(\"powergrid.csv\")\n",
        "df.head(10)"
      ],
      "metadata": {
        "colab": {
          "base_uri": "https://localhost:8080/",
          "height": 363
        },
        "id": "jcpvm1iHRAv2",
        "outputId": "9f2baf29-8d1d-4577-af09-c65bcb1a946f"
      },
      "execution_count": null,
      "outputs": [
        {
          "output_type": "execute_result",
          "data": {
            "text/html": [
              "<div>\n",
              "<style scoped>\n",
              "    .dataframe tbody tr th:only-of-type {\n",
              "        vertical-align: middle;\n",
              "    }\n",
              "\n",
              "    .dataframe tbody tr th {\n",
              "        vertical-align: top;\n",
              "    }\n",
              "\n",
              "    .dataframe thead th {\n",
              "        text-align: right;\n",
              "    }\n",
              "</style>\n",
              "<table border=\"1\" class=\"dataframe\">\n",
              "  <thead>\n",
              "    <tr style=\"text-align: right;\">\n",
              "      <th></th>\n",
              "      <th>Date</th>\n",
              "      <th>Open</th>\n",
              "      <th>High</th>\n",
              "      <th>Low</th>\n",
              "      <th>Close</th>\n",
              "      <th>Adj Close</th>\n",
              "      <th>Volume</th>\n",
              "    </tr>\n",
              "  </thead>\n",
              "  <tbody>\n",
              "    <tr>\n",
              "      <th>0</th>\n",
              "      <td>12/16/2010</td>\n",
              "      <td>72.53</td>\n",
              "      <td>72.56</td>\n",
              "      <td>71.51</td>\n",
              "      <td>72.08</td>\n",
              "      <td>52.01</td>\n",
              "      <td>7588174</td>\n",
              "    </tr>\n",
              "    <tr>\n",
              "      <th>1</th>\n",
              "      <td>12/20/2010</td>\n",
              "      <td>71.81</td>\n",
              "      <td>72.83</td>\n",
              "      <td>71.63</td>\n",
              "      <td>71.89</td>\n",
              "      <td>51.87</td>\n",
              "      <td>9088413</td>\n",
              "    </tr>\n",
              "    <tr>\n",
              "      <th>2</th>\n",
              "      <td>12/21/2010</td>\n",
              "      <td>72.00</td>\n",
              "      <td>73.58</td>\n",
              "      <td>71.93</td>\n",
              "      <td>72.86</td>\n",
              "      <td>52.57</td>\n",
              "      <td>10270046</td>\n",
              "    </tr>\n",
              "    <tr>\n",
              "      <th>3</th>\n",
              "      <td>12/22/2010</td>\n",
              "      <td>73.05</td>\n",
              "      <td>73.73</td>\n",
              "      <td>72.86</td>\n",
              "      <td>73.46</td>\n",
              "      <td>53.01</td>\n",
              "      <td>8699161</td>\n",
              "    </tr>\n",
              "    <tr>\n",
              "      <th>4</th>\n",
              "      <td>12/23/2010</td>\n",
              "      <td>73.16</td>\n",
              "      <td>73.58</td>\n",
              "      <td>72.83</td>\n",
              "      <td>72.94</td>\n",
              "      <td>52.63</td>\n",
              "      <td>3458744</td>\n",
              "    </tr>\n",
              "    <tr>\n",
              "      <th>5</th>\n",
              "      <td>12/24/2010</td>\n",
              "      <td>72.38</td>\n",
              "      <td>73.50</td>\n",
              "      <td>72.38</td>\n",
              "      <td>73.31</td>\n",
              "      <td>52.90</td>\n",
              "      <td>3507492</td>\n",
              "    </tr>\n",
              "    <tr>\n",
              "      <th>6</th>\n",
              "      <td>12/27/2010</td>\n",
              "      <td>73.13</td>\n",
              "      <td>73.35</td>\n",
              "      <td>72.26</td>\n",
              "      <td>72.53</td>\n",
              "      <td>52.33</td>\n",
              "      <td>4131588</td>\n",
              "    </tr>\n",
              "    <tr>\n",
              "      <th>7</th>\n",
              "      <td>12/28/2010</td>\n",
              "      <td>72.38</td>\n",
              "      <td>72.71</td>\n",
              "      <td>71.93</td>\n",
              "      <td>72.11</td>\n",
              "      <td>52.03</td>\n",
              "      <td>4553909</td>\n",
              "    </tr>\n",
              "    <tr>\n",
              "      <th>8</th>\n",
              "      <td>12/29/2010</td>\n",
              "      <td>72.04</td>\n",
              "      <td>72.38</td>\n",
              "      <td>71.63</td>\n",
              "      <td>71.78</td>\n",
              "      <td>51.79</td>\n",
              "      <td>7736218</td>\n",
              "    </tr>\n",
              "    <tr>\n",
              "      <th>9</th>\n",
              "      <td>12/30/2010</td>\n",
              "      <td>71.78</td>\n",
              "      <td>73.16</td>\n",
              "      <td>70.99</td>\n",
              "      <td>72.45</td>\n",
              "      <td>52.28</td>\n",
              "      <td>23960999</td>\n",
              "    </tr>\n",
              "  </tbody>\n",
              "</table>\n",
              "</div>"
            ],
            "text/plain": [
              "         Date   Open   High    Low  Close  Adj Close    Volume\n",
              "0  12/16/2010  72.53  72.56  71.51  72.08      52.01   7588174\n",
              "1  12/20/2010  71.81  72.83  71.63  71.89      51.87   9088413\n",
              "2  12/21/2010  72.00  73.58  71.93  72.86      52.57  10270046\n",
              "3  12/22/2010  73.05  73.73  72.86  73.46      53.01   8699161\n",
              "4  12/23/2010  73.16  73.58  72.83  72.94      52.63   3458744\n",
              "5  12/24/2010  72.38  73.50  72.38  73.31      52.90   3507492\n",
              "6  12/27/2010  73.13  73.35  72.26  72.53      52.33   4131588\n",
              "7  12/28/2010  72.38  72.71  71.93  72.11      52.03   4553909\n",
              "8  12/29/2010  72.04  72.38  71.63  71.78      51.79   7736218\n",
              "9  12/30/2010  71.78  73.16  70.99  72.45      52.28  23960999"
            ]
          },
          "metadata": {},
          "execution_count": 15
        }
      ]
    },
    {
      "cell_type": "code",
      "source": [
        "df.shape"
      ],
      "metadata": {
        "colab": {
          "base_uri": "https://localhost:8080/"
        },
        "id": "Ku_c69fZSW1O",
        "outputId": "717b144f-5d27-410f-d9ee-fdcb43691d0e"
      },
      "execution_count": null,
      "outputs": [
        {
          "output_type": "execute_result",
          "data": {
            "text/plain": [
              "(2710, 7)"
            ]
          },
          "metadata": {},
          "execution_count": 16
        }
      ]
    },
    {
      "cell_type": "code",
      "source": [
        "plt.figure(figsize=(10,6))\n",
        "plt.title(\"Power Grid Corporation of India\")\n",
        "plt.xlabel(\"Days\")\n",
        "plt.ylabel(\"close price\")\n",
        "plt.plot(df['Adj Close'])\n",
        "plt.show()"
      ],
      "metadata": {
        "colab": {
          "base_uri": "https://localhost:8080/",
          "height": 404
        },
        "id": "8XaVBMMtSnDC",
        "outputId": "0d014cd7-f4f1-469a-8e26-a98d3d1948bd"
      },
      "execution_count": null,
      "outputs": [
        {
          "output_type": "display_data",
          "data": {
            "image/png": "[encoded data removed]",
            "text/plain": [
              "<Figure size 720x432 with 1 Axes>"
            ]
          },
          "metadata": {
            "needs_background": "light"
          }
        }
      ]
    },
    {
      "cell_type": "code",
      "source": [
        "from sklearn.preprocessing import MinMaxScaler\n",
        "scaler=MinMaxScaler(feature_range=(0,1))\n",
        "df1=scaler.fit_transform(np.array(df).reshape(-1,1))"
      ],
      "metadata": {
        "id": "L-yC9sbS2rBR"
      },
      "execution_count": null,
      "outputs": []
    },
    {
      "cell_type": "code",
      "source": [
        "training_size=int(len(df1)*0.75)\n",
        "test_size=len(df1)-training_size\n",
        "train_data,test_data=df1[0:training_size,:],df1[training_size:len(df1),:1]"
      ],
      "metadata": {
        "id": "XKjJxwYI21vH"
      },
      "execution_count": null,
      "outputs": []
    },
    {
      "cell_type": "code",
      "source": [
        "training_size,test_size"
      ],
      "metadata": {
        "colab": {
          "base_uri": "https://localhost:8080/"
        },
        "id": "ejILEyX06ijt",
        "outputId": "57baa709-a92b-44e0-cb7f-084db2d81250"
      },
      "execution_count": null,
      "outputs": [
        {
          "output_type": "execute_result",
          "data": {
            "text/plain": [
              "(2032, 678)"
            ]
          },
          "metadata": {},
          "execution_count": 100
        }
      ]
    },
    {
      "cell_type": "code",
      "source": [
        "train_data"
      ],
      "metadata": {
        "colab": {
          "base_uri": "https://localhost:8080/"
        },
        "id": "CI8KSYYX6k6G",
        "outputId": "68119777-003c-4a6e-bff1-d8146825f168"
      },
      "execution_count": null,
      "outputs": [
        {
          "output_type": "execute_result",
          "data": {
            "text/plain": [
              "array([[0.00233315],\n",
              "       [0.00147357],\n",
              "       [0.00577147],\n",
              "       ...,\n",
              "       [0.4451403 ],\n",
              "       [0.43979861],\n",
              "       [0.46257752]])"
            ]
          },
          "metadata": {},
          "execution_count": 101
        }
      ]
    },
    {
      "cell_type": "code",
      "source": [
        "import numpy\n",
        "# convert an array of values into a dataset matrix\n",
        "def create_dataset(dataset, time_step=1):\n",
        "\tdataX, dataY = [], []\n",
        "\tfor i in range(len(dataset)-time_step-1):\n",
        "\t\ta = dataset[i:(i+time_step), 0]   ###i=0, 0,1,2,3-----99   100 \n",
        "\t\tdataX.append(a)\n",
        "\t\tdataY.append(dataset[i + time_step, 0])\n",
        "\treturn numpy.array(dataX), numpy.array(dataY)"
      ],
      "metadata": {
        "id": "VKtTX90C6yv2"
      },
      "execution_count": null,
      "outputs": []
    },
    {
      "cell_type": "code",
      "source": [
        "# reshape into X=t,t+1,t+2,t+3 and Y=t+4\n",
        "time_step = 100\n",
        "X_train, y_train = create_dataset(train_data, time_step)\n",
        "X_test, ytest = create_dataset(test_data, time_step)\n",
        "\n"
      ],
      "metadata": {
        "id": "Mctvu9TW62c1"
      },
      "execution_count": null,
      "outputs": []
    },
    {
      "cell_type": "code",
      "source": [
        "print(X_train.shape), print(y_train.shape)"
      ],
      "metadata": {
        "colab": {
          "base_uri": "https://localhost:8080/"
        },
        "id": "GOSEeCEi64wE",
        "outputId": "d1f42662-c0fe-46ac-ad58-68e7cd5a10e9"
      },
      "execution_count": null,
      "outputs": [
        {
          "output_type": "stream",
          "name": "stdout",
          "text": [
            "(1931, 100)\n",
            "(1931,)\n"
          ]
        },
        {
          "output_type": "execute_result",
          "data": {
            "text/plain": [
              "(None, None)"
            ]
          },
          "metadata": {},
          "execution_count": 104
        }
      ]
    },
    {
      "cell_type": "code",
      "source": [
        "print(X_test.shape), print(ytest.shape)"
      ],
      "metadata": {
        "colab": {
          "base_uri": "https://localhost:8080/"
        },
        "id": "GwD_1Gv06-BU",
        "outputId": "2fae676d-949b-40e0-d64c-8ae764db77fe"
      },
      "execution_count": null,
      "outputs": [
        {
          "output_type": "stream",
          "name": "stdout",
          "text": [
            "(577, 100)\n",
            "(577,)\n"
          ]
        },
        {
          "output_type": "execute_result",
          "data": {
            "text/plain": [
              "(None, None)"
            ]
          },
          "metadata": {},
          "execution_count": 105
        }
      ]
    },
    {
      "cell_type": "code",
      "source": [
        "X_train =X_train.reshape(X_train.shape[0],X_train.shape[1] , 1)\n",
        "X_test = X_test.reshape(X_test.shape[0],X_test.shape[1] , 1)\n",
        "\n",
        "from tensorflow.keras.models import Sequential\n",
        "from tensorflow.keras.layers import Dense\n",
        "from tensorflow.keras.layers import LSTM\n",
        "model=Sequential()\n",
        "model.add(LSTM(50,return_sequences=True,input_shape=(100,1)))\n",
        "model.add(LSTM(50,return_sequences=True))\n",
        "model.add(LSTM(50))\n",
        "model.add(Dense(1))\n",
        "model.compile(loss='mean_squared_error',optimizer='adam')\n",
        "model.summary()"
      ],
      "metadata": {
        "colab": {
          "base_uri": "https://localhost:8080/"
        },
        "id": "OBawmjej7CeO",
        "outputId": "655909e2-1549-49db-97f0-40e4fd1f98a5"
      },
      "execution_count": null,
      "outputs": [
        {
          "output_type": "stream",
          "name": "stdout",
          "text": [
            "Model: \"sequential\"\n",
            "_________________________________________________________________\n",
            " Layer (type)                Output Shape              Param #   \n",
            "=================================================================\n",
            " lstm (LSTM)                 (None, 100, 50)           10400     \n",
            "                                                                 \n",
            " lstm_1 (LSTM)               (None, 100, 50)           20200     \n",
            "                                                                 \n",
            " lstm_2 (LSTM)               (None, 50)                20200     \n",
            "                                                                 \n",
            " dense (Dense)               (None, 1)                 51        \n",
            "                                                                 \n",
            "=================================================================\n",
            "Total params: 50,851\n",
            "Trainable params: 50,851\n",
            "Non-trainable params: 0\n",
            "_________________________________________________________________\n"
          ]
        }
      ]
    },
    {
      "cell_type": "code",
      "source": [
        "model.fit(X_train,y_train,validation_data=(X_test,ytest),epochs=100,batch_size=64,verbose=1)"
      ],
      "metadata": {
        "colab": {
          "base_uri": "https://localhost:8080/"
        },
        "id": "6eYvHcqv7KnT",
        "outputId": "1b89a5d2-3821-4aba-8293-e2aca4c06bbd"
      },
      "execution_count": null,
      "outputs": [
        {
          "output_type": "stream",
          "name": "stdout",
          "text": [
            "Epoch 1/100\n",
            "31/31 [==============================] - 17s 234ms/step - loss: 0.0122 - val_loss: 0.0061\n",
            "Epoch 2/100\n",
            "31/31 [==============================] - 6s 190ms/step - loss: 5.6699e-04 - val_loss: 0.0048\n",
            "Epoch 3/100\n",
            "31/31 [==============================] - 6s 195ms/step - loss: 3.9625e-04 - val_loss: 0.0028\n",
            "Epoch 4/100\n",
            "31/31 [==============================] - 12s 394ms/step - loss: 3.3887e-04 - val_loss: 0.0031\n",
            "Epoch 5/100\n",
            "31/31 [==============================] - 11s 357ms/step - loss: 3.3293e-04 - val_loss: 0.0040\n",
            "Epoch 6/100\n",
            "31/31 [==============================] - 13s 430ms/step - loss: 3.3407e-04 - val_loss: 0.0033\n",
            "Epoch 7/100\n",
            "31/31 [==============================] - 10s 311ms/step - loss: 3.3454e-04 - val_loss: 0.0027\n",
            "Epoch 8/100\n",
            "31/31 [==============================] - 6s 188ms/step - loss: 3.1451e-04 - val_loss: 0.0029\n",
            "Epoch 9/100\n",
            "31/31 [==============================] - 6s 191ms/step - loss: 3.0420e-04 - val_loss: 0.0027\n",
            "Epoch 10/100\n",
            "31/31 [==============================] - 6s 192ms/step - loss: 3.0150e-04 - val_loss: 0.0023\n",
            "Epoch 11/100\n",
            "31/31 [==============================] - 6s 191ms/step - loss: 2.9852e-04 - val_loss: 0.0029\n",
            "Epoch 12/100\n",
            "31/31 [==============================] - 6s 195ms/step - loss: 2.9496e-04 - val_loss: 0.0020\n",
            "Epoch 13/100\n",
            "31/31 [==============================] - 6s 195ms/step - loss: 2.8992e-04 - val_loss: 0.0025\n",
            "Epoch 14/100\n",
            "31/31 [==============================] - 7s 228ms/step - loss: 2.8412e-04 - val_loss: 0.0020\n",
            "Epoch 15/100\n",
            "31/31 [==============================] - 6s 193ms/step - loss: 2.8887e-04 - val_loss: 0.0028\n",
            "Epoch 16/100\n",
            "31/31 [==============================] - 6s 190ms/step - loss: 2.7378e-04 - val_loss: 0.0026\n",
            "Epoch 17/100\n",
            "31/31 [==============================] - 6s 193ms/step - loss: 2.4740e-04 - val_loss: 0.0029\n",
            "Epoch 18/100\n",
            "31/31 [==============================] - 6s 195ms/step - loss: 2.8103e-04 - val_loss: 0.0032\n",
            "Epoch 19/100\n",
            "31/31 [==============================] - 6s 192ms/step - loss: 2.7190e-04 - val_loss: 0.0040\n",
            "Epoch 20/100\n",
            "31/31 [==============================] - 6s 192ms/step - loss: 2.4306e-04 - val_loss: 0.0020\n",
            "Epoch 21/100\n",
            "31/31 [==============================] - 6s 196ms/step - loss: 2.5337e-04 - val_loss: 0.0025\n",
            "Epoch 22/100\n",
            "31/31 [==============================] - 7s 223ms/step - loss: 2.2358e-04 - val_loss: 0.0025\n",
            "Epoch 23/100\n",
            "31/31 [==============================] - 6s 191ms/step - loss: 2.1732e-04 - val_loss: 0.0019\n",
            "Epoch 24/100\n",
            "31/31 [==============================] - 6s 196ms/step - loss: 2.1739e-04 - val_loss: 0.0035\n",
            "Epoch 25/100\n",
            "31/31 [==============================] - 6s 192ms/step - loss: 2.1753e-04 - val_loss: 0.0022\n",
            "Epoch 26/100\n",
            "31/31 [==============================] - 6s 192ms/step - loss: 2.1145e-04 - val_loss: 0.0023\n",
            "Epoch 27/100\n",
            "31/31 [==============================] - 6s 194ms/step - loss: 2.0493e-04 - val_loss: 0.0031\n",
            "Epoch 28/100\n",
            "31/31 [==============================] - 6s 192ms/step - loss: 2.1461e-04 - val_loss: 0.0016\n",
            "Epoch 29/100\n",
            "31/31 [==============================] - 6s 192ms/step - loss: 2.0384e-04 - val_loss: 0.0018\n",
            "Epoch 30/100\n",
            "31/31 [==============================] - 6s 194ms/step - loss: 1.9721e-04 - val_loss: 0.0034\n",
            "Epoch 31/100\n",
            "31/31 [==============================] - 6s 192ms/step - loss: 2.2487e-04 - val_loss: 0.0017\n",
            "Epoch 32/100\n",
            "31/31 [==============================] - 7s 226ms/step - loss: 1.9068e-04 - val_loss: 0.0016\n",
            "Epoch 33/100\n",
            "31/31 [==============================] - 6s 193ms/step - loss: 2.3902e-04 - val_loss: 0.0023\n",
            "Epoch 34/100\n",
            "31/31 [==============================] - 6s 192ms/step - loss: 1.8139e-04 - val_loss: 0.0019\n",
            "Epoch 35/100\n",
            "31/31 [==============================] - 6s 191ms/step - loss: 2.0261e-04 - val_loss: 0.0022\n",
            "Epoch 36/100\n",
            "31/31 [==============================] - 6s 196ms/step - loss: 1.7324e-04 - val_loss: 0.0020\n",
            "Epoch 37/100\n",
            "31/31 [==============================] - 6s 196ms/step - loss: 2.2874e-04 - val_loss: 0.0028\n",
            "Epoch 38/100\n",
            "31/31 [==============================] - 6s 194ms/step - loss: 1.8115e-04 - val_loss: 0.0025\n",
            "Epoch 39/100\n",
            "31/31 [==============================] - 6s 195ms/step - loss: 1.8094e-04 - val_loss: 0.0029\n",
            "Epoch 40/100\n",
            "31/31 [==============================] - 7s 228ms/step - loss: 1.8308e-04 - val_loss: 0.0019\n",
            "Epoch 41/100\n",
            "31/31 [==============================] - 6s 195ms/step - loss: 1.7192e-04 - val_loss: 0.0022\n",
            "Epoch 42/100\n",
            "31/31 [==============================] - 6s 194ms/step - loss: 1.8132e-04 - val_loss: 0.0014\n",
            "Epoch 43/100\n",
            "31/31 [==============================] - 6s 192ms/step - loss: 1.7848e-04 - val_loss: 0.0029\n",
            "Epoch 44/100\n",
            "31/31 [==============================] - 6s 193ms/step - loss: 1.7683e-04 - val_loss: 0.0022\n",
            "Epoch 45/100\n",
            "31/31 [==============================] - 7s 224ms/step - loss: 1.7704e-04 - val_loss: 0.0015\n",
            "Epoch 46/100\n",
            "31/31 [==============================] - 6s 194ms/step - loss: 1.8273e-04 - val_loss: 0.0020\n",
            "Epoch 47/100\n",
            "31/31 [==============================] - 6s 192ms/step - loss: 1.6397e-04 - val_loss: 0.0015\n",
            "Epoch 48/100\n",
            "31/31 [==============================] - 6s 193ms/step - loss: 1.5151e-04 - val_loss: 0.0017\n",
            "Epoch 49/100\n",
            "31/31 [==============================] - 7s 226ms/step - loss: 1.5366e-04 - val_loss: 0.0014\n",
            "Epoch 50/100\n",
            "31/31 [==============================] - 6s 193ms/step - loss: 1.6167e-04 - val_loss: 0.0014\n",
            "Epoch 51/100\n",
            "31/31 [==============================] - 6s 192ms/step - loss: 1.5571e-04 - val_loss: 0.0020\n",
            "Epoch 52/100\n",
            "31/31 [==============================] - 6s 196ms/step - loss: 1.5869e-04 - val_loss: 0.0015\n",
            "Epoch 53/100\n",
            "31/31 [==============================] - 6s 192ms/step - loss: 1.4663e-04 - val_loss: 0.0012\n",
            "Epoch 54/100\n",
            "31/31 [==============================] - 6s 193ms/step - loss: 1.4268e-04 - val_loss: 0.0012\n",
            "Epoch 55/100\n",
            "31/31 [==============================] - 6s 196ms/step - loss: 1.5907e-04 - val_loss: 0.0010\n",
            "Epoch 56/100\n",
            "31/31 [==============================] - 6s 194ms/step - loss: 1.3866e-04 - val_loss: 0.0014\n",
            "Epoch 57/100\n",
            "31/31 [==============================] - 6s 191ms/step - loss: 1.3623e-04 - val_loss: 0.0015\n",
            "Epoch 58/100\n",
            "31/31 [==============================] - 6s 193ms/step - loss: 1.3989e-04 - val_loss: 8.4220e-04\n",
            "Epoch 59/100\n",
            "31/31 [==============================] - 6s 195ms/step - loss: 1.4397e-04 - val_loss: 0.0013\n",
            "Epoch 60/100\n",
            "31/31 [==============================] - 6s 193ms/step - loss: 1.4081e-04 - val_loss: 8.3409e-04\n",
            "Epoch 61/100\n",
            "31/31 [==============================] - 6s 196ms/step - loss: 1.5670e-04 - val_loss: 0.0018\n",
            "Epoch 62/100\n",
            "31/31 [==============================] - 6s 194ms/step - loss: 1.5696e-04 - val_loss: 0.0010\n",
            "Epoch 63/100\n",
            "31/31 [==============================] - 6s 194ms/step - loss: 1.3497e-04 - val_loss: 0.0010\n",
            "Epoch 64/100\n",
            "31/31 [==============================] - 6s 195ms/step - loss: 1.2632e-04 - val_loss: 7.6368e-04\n",
            "Epoch 65/100\n",
            "31/31 [==============================] - 6s 193ms/step - loss: 1.4633e-04 - val_loss: 0.0014\n",
            "Epoch 66/100\n",
            "31/31 [==============================] - 6s 194ms/step - loss: 1.1331e-04 - val_loss: 7.6993e-04\n",
            "Epoch 67/100\n",
            "31/31 [==============================] - 6s 195ms/step - loss: 1.2074e-04 - val_loss: 0.0012\n",
            "Epoch 68/100\n",
            "31/31 [==============================] - 6s 196ms/step - loss: 1.1098e-04 - val_loss: 6.5058e-04\n",
            "Epoch 69/100\n",
            "31/31 [==============================] - 6s 194ms/step - loss: 1.2136e-04 - val_loss: 8.6255e-04\n",
            "Epoch 70/100\n",
            "31/31 [==============================] - 6s 191ms/step - loss: 1.1313e-04 - val_loss: 0.0013\n",
            "Epoch 71/100\n",
            "31/31 [==============================] - 6s 195ms/step - loss: 1.1567e-04 - val_loss: 0.0010\n",
            "Epoch 72/100\n",
            "31/31 [==============================] - 6s 193ms/step - loss: 1.2391e-04 - val_loss: 7.1360e-04\n",
            "Epoch 73/100\n",
            "31/31 [==============================] - 6s 196ms/step - loss: 1.2723e-04 - val_loss: 0.0011\n",
            "Epoch 74/100\n",
            "31/31 [==============================] - 6s 195ms/step - loss: 1.0028e-04 - val_loss: 0.0010\n",
            "Epoch 75/100\n",
            "31/31 [==============================] - 6s 194ms/step - loss: 1.1043e-04 - val_loss: 8.6754e-04\n",
            "Epoch 76/100\n",
            "31/31 [==============================] - 6s 194ms/step - loss: 1.0638e-04 - val_loss: 5.3502e-04\n",
            "Epoch 77/100\n",
            "31/31 [==============================] - 6s 192ms/step - loss: 1.1927e-04 - val_loss: 6.0488e-04\n",
            "Epoch 78/100\n",
            "31/31 [==============================] - 6s 193ms/step - loss: 1.0897e-04 - val_loss: 0.0012\n",
            "Epoch 79/100\n",
            "31/31 [==============================] - 6s 193ms/step - loss: 1.0301e-04 - val_loss: 7.9547e-04\n",
            "Epoch 80/100\n",
            "31/31 [==============================] - 6s 191ms/step - loss: 9.9114e-05 - val_loss: 6.2870e-04\n",
            "Epoch 81/100\n",
            "31/31 [==============================] - 6s 193ms/step - loss: 9.6082e-05 - val_loss: 0.0012\n",
            "Epoch 82/100\n",
            "31/31 [==============================] - 6s 193ms/step - loss: 1.0305e-04 - val_loss: 0.0014\n",
            "Epoch 83/100\n",
            "31/31 [==============================] - 6s 193ms/step - loss: 1.0176e-04 - val_loss: 9.4615e-04\n",
            "Epoch 84/100\n",
            "31/31 [==============================] - 6s 194ms/step - loss: 9.0630e-05 - val_loss: 6.1940e-04\n",
            "Epoch 85/100\n",
            "31/31 [==============================] - 6s 192ms/step - loss: 8.8409e-05 - val_loss: 6.9933e-04\n",
            "Epoch 86/100\n",
            "31/31 [==============================] - 6s 193ms/step - loss: 9.9899e-05 - val_loss: 0.0012\n",
            "Epoch 87/100\n",
            "31/31 [==============================] - 6s 193ms/step - loss: 1.0767e-04 - val_loss: 8.0342e-04\n",
            "Epoch 88/100\n",
            "31/31 [==============================] - 6s 195ms/step - loss: 9.9865e-05 - val_loss: 5.4352e-04\n",
            "Epoch 89/100\n",
            "31/31 [==============================] - 6s 193ms/step - loss: 8.5596e-05 - val_loss: 6.3011e-04\n",
            "Epoch 90/100\n",
            "31/31 [==============================] - 6s 194ms/step - loss: 8.2087e-05 - val_loss: 6.4570e-04\n",
            "Epoch 91/100\n",
            "31/31 [==============================] - 6s 195ms/step - loss: 8.2873e-05 - val_loss: 9.9241e-04\n",
            "Epoch 92/100\n",
            "31/31 [==============================] - 6s 191ms/step - loss: 9.0242e-05 - val_loss: 8.8054e-04\n",
            "Epoch 93/100\n",
            "31/31 [==============================] - 6s 192ms/step - loss: 8.5602e-05 - val_loss: 8.4965e-04\n",
            "Epoch 94/100\n",
            "31/31 [==============================] - 6s 194ms/step - loss: 7.8839e-05 - val_loss: 7.5218e-04\n",
            "Epoch 95/100\n",
            "31/31 [==============================] - 6s 193ms/step - loss: 8.2664e-05 - val_loss: 4.8858e-04\n",
            "Epoch 96/100\n",
            "31/31 [==============================] - 6s 193ms/step - loss: 7.7972e-05 - val_loss: 4.7443e-04\n",
            "Epoch 97/100\n",
            "31/31 [==============================] - 6s 195ms/step - loss: 8.4844e-05 - val_loss: 9.0245e-04\n",
            "Epoch 98/100\n",
            "31/31 [==============================] - 6s 199ms/step - loss: 7.6268e-05 - val_loss: 5.5144e-04\n",
            "Epoch 99/100\n",
            "31/31 [==============================] - 6s 200ms/step - loss: 7.7101e-05 - val_loss: 4.8335e-04\n",
            "Epoch 100/100\n",
            "31/31 [==============================] - 6s 199ms/step - loss: 7.4498e-05 - val_loss: 4.1411e-04\n"
          ]
        },
        {
          "output_type": "execute_result",
          "data": {
            "text/plain": [
              "<keras.callbacks.History at 0x7f82bbf195d0>"
            ]
          },
          "metadata": {},
          "execution_count": 107
        }
      ]
    },
    {
      "cell_type": "code",
      "source": [
        "train_predict=model.predict(X_train)\n",
        "test_predict=model.predict(X_test)\n",
        "\n",
        "train_predict=scaler.inverse_transform(train_predict)\n",
        "test_predict=scaler.inverse_transform(test_predict)\n",
        "\n",
        "import math\n",
        "from sklearn.metrics import mean_squared_error\n",
        "math.sqrt(mean_squared_error(y_train,train_predict))\n",
        "\n",
        "math.sqrt(mean_squared_error(ytest,test_predict))\n",
        "\n",
        "look_back=100\n",
        "trainPredictPlot = numpy.empty_like(df1)\n",
        "trainPredictPlot[:, :] = np.nan\n",
        "trainPredictPlot[look_back:len(train_predict)+look_back, :] = train_predict\n",
        "\n",
        "# shift test predictions for plotting\n",
        "testPredictPlot = numpy.empty_like(df1)\n",
        "testPredictPlot[:, :] = numpy.nan\n",
        "testPredictPlot[len(train_predict)+(look_back*2)+1:len(df1)-1, :] = test_predict\n",
        "\n",
        "# plot baseline and predictions\n",
        "plt.plot(scaler.inverse_transform(df1))\n",
        "plt.plot(trainPredictPlot)\n",
        "plt.plot(testPredictPlot)\n",
        "plt.show()\n",
        "\n"
      ],
      "metadata": {
        "colab": {
          "base_uri": "https://localhost:8080/",
          "height": 266
        },
        "id": "wOArX1U27S9G",
        "outputId": "1fd18f33-930a-4d34-de94-150c25eb1b54"
      },
      "execution_count": null,
      "outputs": [
        {
          "output_type": "display_data",
          "data": {
            "image/png": "[encoded data removed]",
            "text/plain": [
              "<Figure size 432x288 with 1 Axes>"
            ]
          },
          "metadata": {
            "needs_background": "light"
          }
        }
      ]
    },
    {
      "cell_type": "code",
      "source": [
        "len(test_data)"
      ],
      "metadata": {
        "colab": {
          "base_uri": "https://localhost:8080/"
        },
        "id": "qx7b6DhbCXwH",
        "outputId": "582fc90b-76d5-4dc4-da7f-cb78669d9cee"
      },
      "execution_count": null,
      "outputs": [
        {
          "output_type": "execute_result",
          "data": {
            "text/plain": [
              "678"
            ]
          },
          "metadata": {},
          "execution_count": 121
        }
      ]
    },
    {
      "cell_type": "code",
      "source": [
        "x_input=test_data[578:].reshape(1,-1)\n",
        "x_input.shape\n",
        "\n",
        "\n"
      ],
      "metadata": {
        "colab": {
          "base_uri": "https://localhost:8080/"
        },
        "id": "RCCKleMrAJJa",
        "outputId": "9b003ef2-10f8-4ffd-9bb7-3e17dbea9259"
      },
      "execution_count": null,
      "outputs": [
        {
          "output_type": "execute_result",
          "data": {
            "text/plain": [
              "(1, 100)"
            ]
          },
          "metadata": {},
          "execution_count": 122
        }
      ]
    },
    {
      "cell_type": "code",
      "source": [
        "temp_input=list(x_input)\n",
        "temp_input=temp_input[0].tolist()\n"
      ],
      "metadata": {
        "id": "_Djplws5ANXP"
      },
      "execution_count": null,
      "outputs": []
    },
    {
      "cell_type": "code",
      "source": [
        "\n",
        "from numpy import array\n",
        "\n",
        "lst_output=[]\n",
        "n_steps=100\n",
        "i=0\n",
        "while(i<30):\n",
        "    \n",
        "    if(len(temp_input)>100):\n",
        "        #print(temp_input)\n",
        "        x_input=np.array(temp_input[1:])\n",
        "        print(\"{} day input {}\".format(i,x_input))\n",
        "        x_input=x_input.reshape(1,-1)\n",
        "        x_input = x_input.reshape((1, n_steps, 1))\n",
        "        #print(x_input)\n",
        "        yhat = model.predict(x_input, verbose=0)\n",
        "        print(\"{} day output {}\".format(i,yhat))\n",
        "        temp_input.extend(yhat[0].tolist())\n",
        "        temp_input=temp_input[1:]\n",
        "        #print(temp_input)\n",
        "        lst_output.extend(yhat.tolist())\n",
        "        i=i+1\n",
        "    else:\n",
        "        x_input = x_input.reshape((1, n_steps,1))\n",
        "        yhat = model.predict(x_input, verbose=0)\n",
        "        print(yhat[0])\n",
        "        temp_input.extend(yhat[0].tolist())\n",
        "        print(len(temp_input))\n",
        "        lst_output.extend(yhat.tolist())\n",
        "        i=i+1\n",
        "    \n",
        "\n",
        "print(lst_output)"
      ],
      "metadata": {
        "colab": {
          "base_uri": "https://localhost:8080/"
        },
        "id": "8kosMXpV_t3P",
        "outputId": "27ad8173-3934-476d-b463-1300eed05169"
      },
      "execution_count": null,
      "outputs": [
        {
          "output_type": "stream",
          "name": "stdout",
          "text": [
            "0 day input [0.74218702 0.73340701 0.72677596 0.74427457 0.74826549 0.75072143\n",
            " 0.75194941 0.7752809  0.78479769 0.78080678 0.76975502 0.76300117\n",
            " 0.76822005 0.77742985 0.76453613 0.76361515 0.81242709 0.8805796\n",
            " 0.84895929 0.86093203 0.85970406 0.84926629 0.8348376  0.83913551\n",
            " 0.83545159 0.87075582 0.87014183 0.90728802 0.93952232 0.93430343\n",
            " 0.90268312 0.8762817  0.87443974 0.87689568 0.86584392 0.85202923\n",
            " 0.85110825 0.82439983 0.81918094 0.83575858 0.82194388 0.81242709\n",
            " 0.81918094 0.84435439 0.82839074 0.81519003 0.80137533 0.80045435\n",
            " 0.83913551 0.8348376  0.85602014 0.86492294 0.87536072 0.92233069\n",
            " 0.9312335  0.93706637 0.92325167 0.91250691 0.95241604 0.95517898\n",
            " 1.         0.94842512 0.92325167 0.94658316 0.9404433  0.93061951\n",
            " 0.92724259 0.93798735 0.9861853  0.97144962 0.94403332 0.92077017\n",
            " 0.90344316 0.89153862 0.88232511 0.87349153 0.863729   0.85262579\n",
            " 0.84031266 0.82713205 0.81342816 0.79945481 0.78536212 0.77122504\n",
            " 0.75707805 0.74294633 0.72886199 0.71487194 0.701038   0.68743277\n",
            " 0.67413527 0.66122735 0.64878923 0.63689852 0.62562782 0.61504346\n",
            " 0.6052047  0.5961625  0.58795846 0.58062476]\n",
            "0 day output [[0.5741828]]\n",
            "1 day input [0.73340701 0.72677596 0.74427457 0.74826549 0.75072143 0.75194941\n",
            " 0.7752809  0.78479769 0.78080678 0.76975502 0.76300117 0.76822005\n",
            " 0.77742985 0.76453613 0.76361515 0.81242709 0.8805796  0.84895929\n",
            " 0.86093203 0.85970406 0.84926629 0.8348376  0.83913551 0.83545159\n",
            " 0.87075582 0.87014183 0.90728802 0.93952232 0.93430343 0.90268312\n",
            " 0.8762817  0.87443974 0.87689568 0.86584392 0.85202923 0.85110825\n",
            " 0.82439983 0.81918094 0.83575858 0.82194388 0.81242709 0.81918094\n",
            " 0.84435439 0.82839074 0.81519003 0.80137533 0.80045435 0.83913551\n",
            " 0.8348376  0.85602014 0.86492294 0.87536072 0.92233069 0.9312335\n",
            " 0.93706637 0.92325167 0.91250691 0.95241604 0.95517898 1.\n",
            " 0.94842512 0.92325167 0.94658316 0.9404433  0.93061951 0.92724259\n",
            " 0.93798735 0.9861853  0.97144962 0.94403332 0.92077017 0.90344316\n",
            " 0.89153862 0.88232511 0.87349153 0.863729   0.85262579 0.84031266\n",
            " 0.82713205 0.81342816 0.79945481 0.78536212 0.77122504 0.75707805\n",
            " 0.74294633 0.72886199 0.71487194 0.701038   0.68743277 0.67413527\n",
            " 0.66122735 0.64878923 0.63689852 0.62562782 0.61504346 0.6052047\n",
            " 0.5961625  0.58795846 0.58062476 0.57418281]\n",
            "1 day output [[0.56864387]]\n",
            "2 day input [0.72677596 0.74427457 0.74826549 0.75072143 0.75194941 0.7752809\n",
            " 0.78479769 0.78080678 0.76975502 0.76300117 0.76822005 0.77742985\n",
            " 0.76453613 0.76361515 0.81242709 0.8805796  0.84895929 0.86093203\n",
            " 0.85970406 0.84926629 0.8348376  0.83913551 0.83545159 0.87075582\n",
            " 0.87014183 0.90728802 0.93952232 0.93430343 0.90268312 0.8762817\n",
            " 0.87443974 0.87689568 0.86584392 0.85202923 0.85110825 0.82439983\n",
            " 0.81918094 0.83575858 0.82194388 0.81242709 0.81918094 0.84435439\n",
            " 0.82839074 0.81519003 0.80137533 0.80045435 0.83913551 0.8348376\n",
            " 0.85602014 0.86492294 0.87536072 0.92233069 0.9312335  0.93706637\n",
            " 0.92325167 0.91250691 0.95241604 0.95517898 1.         0.94842512\n",
            " 0.92325167 0.94658316 0.9404433  0.93061951 0.92724259 0.93798735\n",
            " 0.9861853  0.97144962 0.94403332 0.92077017 0.90344316 0.89153862\n",
            " 0.88232511 0.87349153 0.863729   0.85262579 0.84031266 0.82713205\n",
            " 0.81342816 0.79945481 0.78536212 0.77122504 0.75707805 0.74294633\n",
            " 0.72886199 0.71487194 0.701038   0.68743277 0.67413527 0.66122735\n",
            " 0.64878923 0.63689852 0.62562782 0.61504346 0.6052047  0.5961625\n",
            " 0.58795846 0.58062476 0.57418281 0.56864387]\n",
            "2 day output [[0.5640085]]\n",
            "3 day input [0.74427457 0.74826549 0.75072143 0.75194941 0.7752809  0.78479769\n",
            " 0.78080678 0.76975502 0.76300117 0.76822005 0.77742985 0.76453613\n",
            " 0.76361515 0.81242709 0.8805796  0.84895929 0.86093203 0.85970406\n",
            " 0.84926629 0.8348376  0.83913551 0.83545159 0.87075582 0.87014183\n",
            " 0.90728802 0.93952232 0.93430343 0.90268312 0.8762817  0.87443974\n",
            " 0.87689568 0.86584392 0.85202923 0.85110825 0.82439983 0.81918094\n",
            " 0.83575858 0.82194388 0.81242709 0.81918094 0.84435439 0.82839074\n",
            " 0.81519003 0.80137533 0.80045435 0.83913551 0.8348376  0.85602014\n",
            " 0.86492294 0.87536072 0.92233069 0.9312335  0.93706637 0.92325167\n",
            " 0.91250691 0.95241604 0.95517898 1.         0.94842512 0.92325167\n",
            " 0.94658316 0.9404433  0.93061951 0.92724259 0.93798735 0.9861853\n",
            " 0.97144962 0.94403332 0.92077017 0.90344316 0.89153862 0.88232511\n",
            " 0.87349153 0.863729   0.85262579 0.84031266 0.82713205 0.81342816\n",
            " 0.79945481 0.78536212 0.77122504 0.75707805 0.74294633 0.72886199\n",
            " 0.71487194 0.701038   0.68743277 0.67413527 0.66122735 0.64878923\n",
            " 0.63689852 0.62562782 0.61504346 0.6052047  0.5961625  0.58795846\n",
            " 0.58062476 0.57418281 0.56864387 0.56400847]\n",
            "3 day output [[0.56026787]]\n",
            "4 day input [0.74826549 0.75072143 0.75194941 0.7752809  0.78479769 0.78080678\n",
            " 0.76975502 0.76300117 0.76822005 0.77742985 0.76453613 0.76361515\n",
            " 0.81242709 0.8805796  0.84895929 0.86093203 0.85970406 0.84926629\n",
            " 0.8348376  0.83913551 0.83545159 0.87075582 0.87014183 0.90728802\n",
            " 0.93952232 0.93430343 0.90268312 0.8762817  0.87443974 0.87689568\n",
            " 0.86584392 0.85202923 0.85110825 0.82439983 0.81918094 0.83575858\n",
            " 0.82194388 0.81242709 0.81918094 0.84435439 0.82839074 0.81519003\n",
            " 0.80137533 0.80045435 0.83913551 0.8348376  0.85602014 0.86492294\n",
            " 0.87536072 0.92233069 0.9312335  0.93706637 0.92325167 0.91250691\n",
            " 0.95241604 0.95517898 1.         0.94842512 0.92325167 0.94658316\n",
            " 0.9404433  0.93061951 0.92724259 0.93798735 0.9861853  0.97144962\n",
            " 0.94403332 0.92077017 0.90344316 0.89153862 0.88232511 0.87349153\n",
            " 0.863729   0.85262579 0.84031266 0.82713205 0.81342816 0.79945481\n",
            " 0.78536212 0.77122504 0.75707805 0.74294633 0.72886199 0.71487194\n",
            " 0.701038   0.68743277 0.67413527 0.66122735 0.64878923 0.63689852\n",
            " 0.62562782 0.61504346 0.6052047  0.5961625  0.58795846 0.58062476\n",
            " 0.57418281 0.56864387 0.56400847 0.56026787]\n",
            "4 day output [[0.55740434]]\n",
            "5 day input [0.75072143 0.75194941 0.7752809  0.78479769 0.78080678 0.76975502\n",
            " 0.76300117 0.76822005 0.77742985 0.76453613 0.76361515 0.81242709\n",
            " 0.8805796  0.84895929 0.86093203 0.85970406 0.84926629 0.8348376\n",
            " 0.83913551 0.83545159 0.87075582 0.87014183 0.90728802 0.93952232\n",
            " 0.93430343 0.90268312 0.8762817  0.87443974 0.87689568 0.86584392\n",
            " 0.85202923 0.85110825 0.82439983 0.81918094 0.83575858 0.82194388\n",
            " 0.81242709 0.81918094 0.84435439 0.82839074 0.81519003 0.80137533\n",
            " 0.80045435 0.83913551 0.8348376  0.85602014 0.86492294 0.87536072\n",
            " 0.92233069 0.9312335  0.93706637 0.92325167 0.91250691 0.95241604\n",
            " 0.95517898 1.         0.94842512 0.92325167 0.94658316 0.9404433\n",
            " 0.93061951 0.92724259 0.93798735 0.9861853  0.97144962 0.94403332\n",
            " 0.92077017 0.90344316 0.89153862 0.88232511 0.87349153 0.863729\n",
            " 0.85262579 0.84031266 0.82713205 0.81342816 0.79945481 0.78536212\n",
            " 0.77122504 0.75707805 0.74294633 0.72886199 0.71487194 0.701038\n",
            " 0.68743277 0.67413527 0.66122735 0.64878923 0.63689852 0.62562782\n",
            " 0.61504346 0.6052047  0.5961625  0.58795846 0.58062476 0.57418281\n",
            " 0.56864387 0.56400847 0.56026787 0.55740434]\n",
            "5 day output [[0.55539185]]\n",
            "6 day input [0.75194941 0.7752809  0.78479769 0.78080678 0.76975502 0.76300117\n",
            " 0.76822005 0.77742985 0.76453613 0.76361515 0.81242709 0.8805796\n",
            " 0.84895929 0.86093203 0.85970406 0.84926629 0.8348376  0.83913551\n",
            " 0.83545159 0.87075582 0.87014183 0.90728802 0.93952232 0.93430343\n",
            " 0.90268312 0.8762817  0.87443974 0.87689568 0.86584392 0.85202923\n",
            " 0.85110825 0.82439983 0.81918094 0.83575858 0.82194388 0.81242709\n",
            " 0.81918094 0.84435439 0.82839074 0.81519003 0.80137533 0.80045435\n",
            " 0.83913551 0.8348376  0.85602014 0.86492294 0.87536072 0.92233069\n",
            " 0.9312335  0.93706637 0.92325167 0.91250691 0.95241604 0.95517898\n",
            " 1.         0.94842512 0.92325167 0.94658316 0.9404433  0.93061951\n",
            " 0.92724259 0.93798735 0.9861853  0.97144962 0.94403332 0.92077017\n",
            " 0.90344316 0.89153862 0.88232511 0.87349153 0.863729   0.85262579\n",
            " 0.84031266 0.82713205 0.81342816 0.79945481 0.78536212 0.77122504\n",
            " 0.75707805 0.74294633 0.72886199 0.71487194 0.701038   0.68743277\n",
            " 0.67413527 0.66122735 0.64878923 0.63689852 0.62562782 0.61504346\n",
            " 0.6052047  0.5961625  0.58795846 0.58062476 0.57418281 0.56864387\n",
            " 0.56400847 0.56026787 0.55740434 0.55539185]\n",
            "6 day output [[0.55419713]]\n",
            "7 day input [0.7752809  0.78479769 0.78080678 0.76975502 0.76300117 0.76822005\n",
            " 0.77742985 0.76453613 0.76361515 0.81242709 0.8805796  0.84895929\n",
            " 0.86093203 0.85970406 0.84926629 0.8348376  0.83913551 0.83545159\n",
            " 0.87075582 0.87014183 0.90728802 0.93952232 0.93430343 0.90268312\n",
            " 0.8762817  0.87443974 0.87689568 0.86584392 0.85202923 0.85110825\n",
            " 0.82439983 0.81918094 0.83575858 0.82194388 0.81242709 0.81918094\n",
            " 0.84435439 0.82839074 0.81519003 0.80137533 0.80045435 0.83913551\n",
            " 0.8348376  0.85602014 0.86492294 0.87536072 0.92233069 0.9312335\n",
            " 0.93706637 0.92325167 0.91250691 0.95241604 0.95517898 1.\n",
            " 0.94842512 0.92325167 0.94658316 0.9404433  0.93061951 0.92724259\n",
            " 0.93798735 0.9861853  0.97144962 0.94403332 0.92077017 0.90344316\n",
            " 0.89153862 0.88232511 0.87349153 0.863729   0.85262579 0.84031266\n",
            " 0.82713205 0.81342816 0.79945481 0.78536212 0.77122504 0.75707805\n",
            " 0.74294633 0.72886199 0.71487194 0.701038   0.68743277 0.67413527\n",
            " 0.66122735 0.64878923 0.63689852 0.62562782 0.61504346 0.6052047\n",
            " 0.5961625  0.58795846 0.58062476 0.57418281 0.56864387 0.56400847\n",
            " 0.56026787 0.55740434 0.55539185 0.55419713]\n",
            "7 day output [[0.55378187]]\n",
            "8 day input [0.78479769 0.78080678 0.76975502 0.76300117 0.76822005 0.77742985\n",
            " 0.76453613 0.76361515 0.81242709 0.8805796  0.84895929 0.86093203\n",
            " 0.85970406 0.84926629 0.8348376  0.83913551 0.83545159 0.87075582\n",
            " 0.87014183 0.90728802 0.93952232 0.93430343 0.90268312 0.8762817\n",
            " 0.87443974 0.87689568 0.86584392 0.85202923 0.85110825 0.82439983\n",
            " 0.81918094 0.83575858 0.82194388 0.81242709 0.81918094 0.84435439\n",
            " 0.82839074 0.81519003 0.80137533 0.80045435 0.83913551 0.8348376\n",
            " 0.85602014 0.86492294 0.87536072 0.92233069 0.9312335  0.93706637\n",
            " 0.92325167 0.91250691 0.95241604 0.95517898 1.         0.94842512\n",
            " 0.92325167 0.94658316 0.9404433  0.93061951 0.92724259 0.93798735\n",
            " 0.9861853  0.97144962 0.94403332 0.92077017 0.90344316 0.89153862\n",
            " 0.88232511 0.87349153 0.863729   0.85262579 0.84031266 0.82713205\n",
            " 0.81342816 0.79945481 0.78536212 0.77122504 0.75707805 0.74294633\n",
            " 0.72886199 0.71487194 0.701038   0.68743277 0.67413527 0.66122735\n",
            " 0.64878923 0.63689852 0.62562782 0.61504346 0.6052047  0.5961625\n",
            " 0.58795846 0.58062476 0.57418281 0.56864387 0.56400847 0.56026787\n",
            " 0.55740434 0.55539185 0.55419713 0.55378187]\n",
            "8 day output [[0.5541023]]\n",
            "9 day input [0.78080678 0.76975502 0.76300117 0.76822005 0.77742985 0.76453613\n",
            " 0.76361515 0.81242709 0.8805796  0.84895929 0.86093203 0.85970406\n",
            " 0.84926629 0.8348376  0.83913551 0.83545159 0.87075582 0.87014183\n",
            " 0.90728802 0.93952232 0.93430343 0.90268312 0.8762817  0.87443974\n",
            " 0.87689568 0.86584392 0.85202923 0.85110825 0.82439983 0.81918094\n",
            " 0.83575858 0.82194388 0.81242709 0.81918094 0.84435439 0.82839074\n",
            " 0.81519003 0.80137533 0.80045435 0.83913551 0.8348376  0.85602014\n",
            " 0.86492294 0.87536072 0.92233069 0.9312335  0.93706637 0.92325167\n",
            " 0.91250691 0.95241604 0.95517898 1.         0.94842512 0.92325167\n",
            " 0.94658316 0.9404433  0.93061951 0.92724259 0.93798735 0.9861853\n",
            " 0.97144962 0.94403332 0.92077017 0.90344316 0.89153862 0.88232511\n",
            " 0.87349153 0.863729   0.85262579 0.84031266 0.82713205 0.81342816\n",
            " 0.79945481 0.78536212 0.77122504 0.75707805 0.74294633 0.72886199\n",
            " 0.71487194 0.701038   0.68743277 0.67413527 0.66122735 0.64878923\n",
            " 0.63689852 0.62562782 0.61504346 0.6052047  0.5961625  0.58795846\n",
            " 0.58062476 0.57418281 0.56864387 0.56400847 0.56026787 0.55740434\n",
            " 0.55539185 0.55419713 0.55378187 0.5541023 ]\n",
            "9 day output [[0.5551106]]\n",
            "10 day input [0.76975502 0.76300117 0.76822005 0.77742985 0.76453613 0.76361515\n",
            " 0.81242709 0.8805796  0.84895929 0.86093203 0.85970406 0.84926629\n",
            " 0.8348376  0.83913551 0.83545159 0.87075582 0.87014183 0.90728802\n",
            " 0.93952232 0.93430343 0.90268312 0.8762817  0.87443974 0.87689568\n",
            " 0.86584392 0.85202923 0.85110825 0.82439983 0.81918094 0.83575858\n",
            " 0.82194388 0.81242709 0.81918094 0.84435439 0.82839074 0.81519003\n",
            " 0.80137533 0.80045435 0.83913551 0.8348376  0.85602014 0.86492294\n",
            " 0.87536072 0.92233069 0.9312335  0.93706637 0.92325167 0.91250691\n",
            " 0.95241604 0.95517898 1.         0.94842512 0.92325167 0.94658316\n",
            " 0.9404433  0.93061951 0.92724259 0.93798735 0.9861853  0.97144962\n",
            " 0.94403332 0.92077017 0.90344316 0.89153862 0.88232511 0.87349153\n",
            " 0.863729   0.85262579 0.84031266 0.82713205 0.81342816 0.79945481\n",
            " 0.78536212 0.77122504 0.75707805 0.74294633 0.72886199 0.71487194\n",
            " 0.701038   0.68743277 0.67413527 0.66122735 0.64878923 0.63689852\n",
            " 0.62562782 0.61504346 0.6052047  0.5961625  0.58795846 0.58062476\n",
            " 0.57418281 0.56864387 0.56400847 0.56026787 0.55740434 0.55539185\n",
            " 0.55419713 0.55378187 0.5541023  0.55511057]\n",
            "10 day output [[0.5567567]]\n",
            "11 day input [0.76300117 0.76822005 0.77742985 0.76453613 0.76361515 0.81242709\n",
            " 0.8805796  0.84895929 0.86093203 0.85970406 0.84926629 0.8348376\n",
            " 0.83913551 0.83545159 0.87075582 0.87014183 0.90728802 0.93952232\n",
            " 0.93430343 0.90268312 0.8762817  0.87443974 0.87689568 0.86584392\n",
            " 0.85202923 0.85110825 0.82439983 0.81918094 0.83575858 0.82194388\n",
            " 0.81242709 0.81918094 0.84435439 0.82839074 0.81519003 0.80137533\n",
            " 0.80045435 0.83913551 0.8348376  0.85602014 0.86492294 0.87536072\n",
            " 0.92233069 0.9312335  0.93706637 0.92325167 0.91250691 0.95241604\n",
            " 0.95517898 1.         0.94842512 0.92325167 0.94658316 0.9404433\n",
            " 0.93061951 0.92724259 0.93798735 0.9861853  0.97144962 0.94403332\n",
            " 0.92077017 0.90344316 0.89153862 0.88232511 0.87349153 0.863729\n",
            " 0.85262579 0.84031266 0.82713205 0.81342816 0.79945481 0.78536212\n",
            " 0.77122504 0.75707805 0.74294633 0.72886199 0.71487194 0.701038\n",
            " 0.68743277 0.67413527 0.66122735 0.64878923 0.63689852 0.62562782\n",
            " 0.61504346 0.6052047  0.5961625  0.58795846 0.58062476 0.57418281\n",
            " 0.56864387 0.56400847 0.56026787 0.55740434 0.55539185 0.55419713\n",
            " 0.55378187 0.5541023  0.55511057 0.55675668]\n",
            "11 day output [[0.55898786]]\n",
            "12 day input [0.76822005 0.77742985 0.76453613 0.76361515 0.81242709 0.8805796\n",
            " 0.84895929 0.86093203 0.85970406 0.84926629 0.8348376  0.83913551\n",
            " 0.83545159 0.87075582 0.87014183 0.90728802 0.93952232 0.93430343\n",
            " 0.90268312 0.8762817  0.87443974 0.87689568 0.86584392 0.85202923\n",
            " 0.85110825 0.82439983 0.81918094 0.83575858 0.82194388 0.81242709\n",
            " 0.81918094 0.84435439 0.82839074 0.81519003 0.80137533 0.80045435\n",
            " 0.83913551 0.8348376  0.85602014 0.86492294 0.87536072 0.92233069\n",
            " 0.9312335  0.93706637 0.92325167 0.91250691 0.95241604 0.95517898\n",
            " 1.         0.94842512 0.92325167 0.94658316 0.9404433  0.93061951\n",
            " 0.92724259 0.93798735 0.9861853  0.97144962 0.94403332 0.92077017\n",
            " 0.90344316 0.89153862 0.88232511 0.87349153 0.863729   0.85262579\n",
            " 0.84031266 0.82713205 0.81342816 0.79945481 0.78536212 0.77122504\n",
            " 0.75707805 0.74294633 0.72886199 0.71487194 0.701038   0.68743277\n",
            " 0.67413527 0.66122735 0.64878923 0.63689852 0.62562782 0.61504346\n",
            " 0.6052047  0.5961625  0.58795846 0.58062476 0.57418281 0.56864387\n",
            " 0.56400847 0.56026787 0.55740434 0.55539185 0.55419713 0.55378187\n",
            " 0.5541023  0.55511057 0.55675668 0.55898786]\n",
            "12 day output [[0.56175053]]\n",
            "13 day input [0.77742985 0.76453613 0.76361515 0.81242709 0.8805796  0.84895929\n",
            " 0.86093203 0.85970406 0.84926629 0.8348376  0.83913551 0.83545159\n",
            " 0.87075582 0.87014183 0.90728802 0.93952232 0.93430343 0.90268312\n",
            " 0.8762817  0.87443974 0.87689568 0.86584392 0.85202923 0.85110825\n",
            " 0.82439983 0.81918094 0.83575858 0.82194388 0.81242709 0.81918094\n",
            " 0.84435439 0.82839074 0.81519003 0.80137533 0.80045435 0.83913551\n",
            " 0.8348376  0.85602014 0.86492294 0.87536072 0.92233069 0.9312335\n",
            " 0.93706637 0.92325167 0.91250691 0.95241604 0.95517898 1.\n",
            " 0.94842512 0.92325167 0.94658316 0.9404433  0.93061951 0.92724259\n",
            " 0.93798735 0.9861853  0.97144962 0.94403332 0.92077017 0.90344316\n",
            " 0.89153862 0.88232511 0.87349153 0.863729   0.85262579 0.84031266\n",
            " 0.82713205 0.81342816 0.79945481 0.78536212 0.77122504 0.75707805\n",
            " 0.74294633 0.72886199 0.71487194 0.701038   0.68743277 0.67413527\n",
            " 0.66122735 0.64878923 0.63689852 0.62562782 0.61504346 0.6052047\n",
            " 0.5961625  0.58795846 0.58062476 0.57418281 0.56864387 0.56400847\n",
            " 0.56026787 0.55740434 0.55539185 0.55419713 0.55378187 0.5541023\n",
            " 0.55511057 0.55675668 0.55898786 0.56175053]\n",
            "13 day output [[0.56498975]]\n",
            "14 day input [0.76453613 0.76361515 0.81242709 0.8805796  0.84895929 0.86093203\n",
            " 0.85970406 0.84926629 0.8348376  0.83913551 0.83545159 0.87075582\n",
            " 0.87014183 0.90728802 0.93952232 0.93430343 0.90268312 0.8762817\n",
            " 0.87443974 0.87689568 0.86584392 0.85202923 0.85110825 0.82439983\n",
            " 0.81918094 0.83575858 0.82194388 0.81242709 0.81918094 0.84435439\n",
            " 0.82839074 0.81519003 0.80137533 0.80045435 0.83913551 0.8348376\n",
            " 0.85602014 0.86492294 0.87536072 0.92233069 0.9312335  0.93706637\n",
            " 0.92325167 0.91250691 0.95241604 0.95517898 1.         0.94842512\n",
            " 0.92325167 0.94658316 0.9404433  0.93061951 0.92724259 0.93798735\n",
            " 0.9861853  0.97144962 0.94403332 0.92077017 0.90344316 0.89153862\n",
            " 0.88232511 0.87349153 0.863729   0.85262579 0.84031266 0.82713205\n",
            " 0.81342816 0.79945481 0.78536212 0.77122504 0.75707805 0.74294633\n",
            " 0.72886199 0.71487194 0.701038   0.68743277 0.67413527 0.66122735\n",
            " 0.64878923 0.63689852 0.62562782 0.61504346 0.6052047  0.5961625\n",
            " 0.58795846 0.58062476 0.57418281 0.56864387 0.56400847 0.56026787\n",
            " 0.55740434 0.55539185 0.55419713 0.55378187 0.5541023  0.55511057\n",
            " 0.55675668 0.55898786 0.56175053 0.56498975]\n",
            "14 day output [[0.5686507]]\n",
            "15 day input [0.76361515 0.81242709 0.8805796  0.84895929 0.86093203 0.85970406\n",
            " 0.84926629 0.8348376  0.83913551 0.83545159 0.87075582 0.87014183\n",
            " 0.90728802 0.93952232 0.93430343 0.90268312 0.8762817  0.87443974\n",
            " 0.87689568 0.86584392 0.85202923 0.85110825 0.82439983 0.81918094\n",
            " 0.83575858 0.82194388 0.81242709 0.81918094 0.84435439 0.82839074\n",
            " 0.81519003 0.80137533 0.80045435 0.83913551 0.8348376  0.85602014\n",
            " 0.86492294 0.87536072 0.92233069 0.9312335  0.93706637 0.92325167\n",
            " 0.91250691 0.95241604 0.95517898 1.         0.94842512 0.92325167\n",
            " 0.94658316 0.9404433  0.93061951 0.92724259 0.93798735 0.9861853\n",
            " 0.97144962 0.94403332 0.92077017 0.90344316 0.89153862 0.88232511\n",
            " 0.87349153 0.863729   0.85262579 0.84031266 0.82713205 0.81342816\n",
            " 0.79945481 0.78536212 0.77122504 0.75707805 0.74294633 0.72886199\n",
            " 0.71487194 0.701038   0.68743277 0.67413527 0.66122735 0.64878923\n",
            " 0.63689852 0.62562782 0.61504346 0.6052047  0.5961625  0.58795846\n",
            " 0.58062476 0.57418281 0.56864387 0.56400847 0.56026787 0.55740434\n",
            " 0.55539185 0.55419713 0.55378187 0.5541023  0.55511057 0.55675668\n",
            " 0.55898786 0.56175053 0.56498975 0.56865072]\n",
            "15 day output [[0.5726781]]\n",
            "16 day input [0.81242709 0.8805796  0.84895929 0.86093203 0.85970406 0.84926629\n",
            " 0.8348376  0.83913551 0.83545159 0.87075582 0.87014183 0.90728802\n",
            " 0.93952232 0.93430343 0.90268312 0.8762817  0.87443974 0.87689568\n",
            " 0.86584392 0.85202923 0.85110825 0.82439983 0.81918094 0.83575858\n",
            " 0.82194388 0.81242709 0.81918094 0.84435439 0.82839074 0.81519003\n",
            " 0.80137533 0.80045435 0.83913551 0.8348376  0.85602014 0.86492294\n",
            " 0.87536072 0.92233069 0.9312335  0.93706637 0.92325167 0.91250691\n",
            " 0.95241604 0.95517898 1.         0.94842512 0.92325167 0.94658316\n",
            " 0.9404433  0.93061951 0.92724259 0.93798735 0.9861853  0.97144962\n",
            " 0.94403332 0.92077017 0.90344316 0.89153862 0.88232511 0.87349153\n",
            " 0.863729   0.85262579 0.84031266 0.82713205 0.81342816 0.79945481\n",
            " 0.78536212 0.77122504 0.75707805 0.74294633 0.72886199 0.71487194\n",
            " 0.701038   0.68743277 0.67413527 0.66122735 0.64878923 0.63689852\n",
            " 0.62562782 0.61504346 0.6052047  0.5961625  0.58795846 0.58062476\n",
            " 0.57418281 0.56864387 0.56400847 0.56026787 0.55740434 0.55539185\n",
            " 0.55419713 0.55378187 0.5541023  0.55511057 0.55675668 0.55898786\n",
            " 0.56175053 0.56498975 0.56865072 0.57267809]\n",
            "16 day output [[0.57701755]]\n",
            "17 day input [0.8805796  0.84895929 0.86093203 0.85970406 0.84926629 0.8348376\n",
            " 0.83913551 0.83545159 0.87075582 0.87014183 0.90728802 0.93952232\n",
            " 0.93430343 0.90268312 0.8762817  0.87443974 0.87689568 0.86584392\n",
            " 0.85202923 0.85110825 0.82439983 0.81918094 0.83575858 0.82194388\n",
            " 0.81242709 0.81918094 0.84435439 0.82839074 0.81519003 0.80137533\n",
            " 0.80045435 0.83913551 0.8348376  0.85602014 0.86492294 0.87536072\n",
            " 0.92233069 0.9312335  0.93706637 0.92325167 0.91250691 0.95241604\n",
            " 0.95517898 1.         0.94842512 0.92325167 0.94658316 0.9404433\n",
            " 0.93061951 0.92724259 0.93798735 0.9861853  0.97144962 0.94403332\n",
            " 0.92077017 0.90344316 0.89153862 0.88232511 0.87349153 0.863729\n",
            " 0.85262579 0.84031266 0.82713205 0.81342816 0.79945481 0.78536212\n",
            " 0.77122504 0.75707805 0.74294633 0.72886199 0.71487194 0.701038\n",
            " 0.68743277 0.67413527 0.66122735 0.64878923 0.63689852 0.62562782\n",
            " 0.61504346 0.6052047  0.5961625  0.58795846 0.58062476 0.57418281\n",
            " 0.56864387 0.56400847 0.56026787 0.55740434 0.55539185 0.55419713\n",
            " 0.55378187 0.5541023  0.55511057 0.55675668 0.55898786 0.56175053\n",
            " 0.56498975 0.56865072 0.57267809 0.57701755]\n",
            "17 day output [[0.5816158]]\n",
            "18 day input [0.84895929 0.86093203 0.85970406 0.84926629 0.8348376  0.83913551\n",
            " 0.83545159 0.87075582 0.87014183 0.90728802 0.93952232 0.93430343\n",
            " 0.90268312 0.8762817  0.87443974 0.87689568 0.86584392 0.85202923\n",
            " 0.85110825 0.82439983 0.81918094 0.83575858 0.82194388 0.81242709\n",
            " 0.81918094 0.84435439 0.82839074 0.81519003 0.80137533 0.80045435\n",
            " 0.83913551 0.8348376  0.85602014 0.86492294 0.87536072 0.92233069\n",
            " 0.9312335  0.93706637 0.92325167 0.91250691 0.95241604 0.95517898\n",
            " 1.         0.94842512 0.92325167 0.94658316 0.9404433  0.93061951\n",
            " 0.92724259 0.93798735 0.9861853  0.97144962 0.94403332 0.92077017\n",
            " 0.90344316 0.89153862 0.88232511 0.87349153 0.863729   0.85262579\n",
            " 0.84031266 0.82713205 0.81342816 0.79945481 0.78536212 0.77122504\n",
            " 0.75707805 0.74294633 0.72886199 0.71487194 0.701038   0.68743277\n",
            " 0.67413527 0.66122735 0.64878923 0.63689852 0.62562782 0.61504346\n",
            " 0.6052047  0.5961625  0.58795846 0.58062476 0.57418281 0.56864387\n",
            " 0.56400847 0.56026787 0.55740434 0.55539185 0.55419713 0.55378187\n",
            " 0.5541023  0.55511057 0.55675668 0.55898786 0.56175053 0.56498975\n",
            " 0.56865072 0.57267809 0.57701755 0.58161581]\n",
            "18 day output [[0.58642036]]\n",
            "19 day input [0.86093203 0.85970406 0.84926629 0.8348376  0.83913551 0.83545159\n",
            " 0.87075582 0.87014183 0.90728802 0.93952232 0.93430343 0.90268312\n",
            " 0.8762817  0.87443974 0.87689568 0.86584392 0.85202923 0.85110825\n",
            " 0.82439983 0.81918094 0.83575858 0.82194388 0.81242709 0.81918094\n",
            " 0.84435439 0.82839074 0.81519003 0.80137533 0.80045435 0.83913551\n",
            " 0.8348376  0.85602014 0.86492294 0.87536072 0.92233069 0.9312335\n",
            " 0.93706637 0.92325167 0.91250691 0.95241604 0.95517898 1.\n",
            " 0.94842512 0.92325167 0.94658316 0.9404433  0.93061951 0.92724259\n",
            " 0.93798735 0.9861853  0.97144962 0.94403332 0.92077017 0.90344316\n",
            " 0.89153862 0.88232511 0.87349153 0.863729   0.85262579 0.84031266\n",
            " 0.82713205 0.81342816 0.79945481 0.78536212 0.77122504 0.75707805\n",
            " 0.74294633 0.72886199 0.71487194 0.701038   0.68743277 0.67413527\n",
            " 0.66122735 0.64878923 0.63689852 0.62562782 0.61504346 0.6052047\n",
            " 0.5961625  0.58795846 0.58062476 0.57418281 0.56864387 0.56400847\n",
            " 0.56026787 0.55740434 0.55539185 0.55419713 0.55378187 0.5541023\n",
            " 0.55511057 0.55675668 0.55898786 0.56175053 0.56498975 0.56865072\n",
            " 0.57267809 0.57701755 0.58161581 0.58642036]\n",
            "19 day output [[0.59138]]\n",
            "20 day input [0.85970406 0.84926629 0.8348376  0.83913551 0.83545159 0.87075582\n",
            " 0.87014183 0.90728802 0.93952232 0.93430343 0.90268312 0.8762817\n",
            " 0.87443974 0.87689568 0.86584392 0.85202923 0.85110825 0.82439983\n",
            " 0.81918094 0.83575858 0.82194388 0.81242709 0.81918094 0.84435439\n",
            " 0.82839074 0.81519003 0.80137533 0.80045435 0.83913551 0.8348376\n",
            " 0.85602014 0.86492294 0.87536072 0.92233069 0.9312335  0.93706637\n",
            " 0.92325167 0.91250691 0.95241604 0.95517898 1.         0.94842512\n",
            " 0.92325167 0.94658316 0.9404433  0.93061951 0.92724259 0.93798735\n",
            " 0.9861853  0.97144962 0.94403332 0.92077017 0.90344316 0.89153862\n",
            " 0.88232511 0.87349153 0.863729   0.85262579 0.84031266 0.82713205\n",
            " 0.81342816 0.79945481 0.78536212 0.77122504 0.75707805 0.74294633\n",
            " 0.72886199 0.71487194 0.701038   0.68743277 0.67413527 0.66122735\n",
            " 0.64878923 0.63689852 0.62562782 0.61504346 0.6052047  0.5961625\n",
            " 0.58795846 0.58062476 0.57418281 0.56864387 0.56400847 0.56026787\n",
            " 0.55740434 0.55539185 0.55419713 0.55378187 0.5541023  0.55511057\n",
            " 0.55675668 0.55898786 0.56175053 0.56498975 0.56865072 0.57267809\n",
            " 0.57701755 0.58161581 0.58642036 0.59138   ]\n",
            "20 day output [[0.59644616]]\n",
            "21 day input [0.84926629 0.8348376  0.83913551 0.83545159 0.87075582 0.87014183\n",
            " 0.90728802 0.93952232 0.93430343 0.90268312 0.8762817  0.87443974\n",
            " 0.87689568 0.86584392 0.85202923 0.85110825 0.82439983 0.81918094\n",
            " 0.83575858 0.82194388 0.81242709 0.81918094 0.84435439 0.82839074\n",
            " 0.81519003 0.80137533 0.80045435 0.83913551 0.8348376  0.85602014\n",
            " 0.86492294 0.87536072 0.92233069 0.9312335  0.93706637 0.92325167\n",
            " 0.91250691 0.95241604 0.95517898 1.         0.94842512 0.92325167\n",
            " 0.94658316 0.9404433  0.93061951 0.92724259 0.93798735 0.9861853\n",
            " 0.97144962 0.94403332 0.92077017 0.90344316 0.89153862 0.88232511\n",
            " 0.87349153 0.863729   0.85262579 0.84031266 0.82713205 0.81342816\n",
            " 0.79945481 0.78536212 0.77122504 0.75707805 0.74294633 0.72886199\n",
            " 0.71487194 0.701038   0.68743277 0.67413527 0.66122735 0.64878923\n",
            " 0.63689852 0.62562782 0.61504346 0.6052047  0.5961625  0.58795846\n",
            " 0.58062476 0.57418281 0.56864387 0.56400847 0.56026787 0.55740434\n",
            " 0.55539185 0.55419713 0.55378187 0.5541023  0.55511057 0.55675668\n",
            " 0.55898786 0.56175053 0.56498975 0.56865072 0.57267809 0.57701755\n",
            " 0.58161581 0.58642036 0.59138    0.59644616]\n",
            "21 day output [[0.6015713]]\n",
            "22 day input [0.8348376  0.83913551 0.83545159 0.87075582 0.87014183 0.90728802\n",
            " 0.93952232 0.93430343 0.90268312 0.8762817  0.87443974 0.87689568\n",
            " 0.86584392 0.85202923 0.85110825 0.82439983 0.81918094 0.83575858\n",
            " 0.82194388 0.81242709 0.81918094 0.84435439 0.82839074 0.81519003\n",
            " 0.80137533 0.80045435 0.83913551 0.8348376  0.85602014 0.86492294\n",
            " 0.87536072 0.92233069 0.9312335  0.93706637 0.92325167 0.91250691\n",
            " 0.95241604 0.95517898 1.         0.94842512 0.92325167 0.94658316\n",
            " 0.9404433  0.93061951 0.92724259 0.93798735 0.9861853  0.97144962\n",
            " 0.94403332 0.92077017 0.90344316 0.89153862 0.88232511 0.87349153\n",
            " 0.863729   0.85262579 0.84031266 0.82713205 0.81342816 0.79945481\n",
            " 0.78536212 0.77122504 0.75707805 0.74294633 0.72886199 0.71487194\n",
            " 0.701038   0.68743277 0.67413527 0.66122735 0.64878923 0.63689852\n",
            " 0.62562782 0.61504346 0.6052047  0.5961625  0.58795846 0.58062476\n",
            " 0.57418281 0.56864387 0.56400847 0.56026787 0.55740434 0.55539185\n",
            " 0.55419713 0.55378187 0.5541023  0.55511057 0.55675668 0.55898786\n",
            " 0.56175053 0.56498975 0.56865072 0.57267809 0.57701755 0.58161581\n",
            " 0.58642036 0.59138    0.59644616 0.60157132]\n",
            "22 day output [[0.60671055]]\n",
            "23 day input [0.83913551 0.83545159 0.87075582 0.87014183 0.90728802 0.93952232\n",
            " 0.93430343 0.90268312 0.8762817  0.87443974 0.87689568 0.86584392\n",
            " 0.85202923 0.85110825 0.82439983 0.81918094 0.83575858 0.82194388\n",
            " 0.81242709 0.81918094 0.84435439 0.82839074 0.81519003 0.80137533\n",
            " 0.80045435 0.83913551 0.8348376  0.85602014 0.86492294 0.87536072\n",
            " 0.92233069 0.9312335  0.93706637 0.92325167 0.91250691 0.95241604\n",
            " 0.95517898 1.         0.94842512 0.92325167 0.94658316 0.9404433\n",
            " 0.93061951 0.92724259 0.93798735 0.9861853  0.97144962 0.94403332\n",
            " 0.92077017 0.90344316 0.89153862 0.88232511 0.87349153 0.863729\n",
            " 0.85262579 0.84031266 0.82713205 0.81342816 0.79945481 0.78536212\n",
            " 0.77122504 0.75707805 0.74294633 0.72886199 0.71487194 0.701038\n",
            " 0.68743277 0.67413527 0.66122735 0.64878923 0.63689852 0.62562782\n",
            " 0.61504346 0.6052047  0.5961625  0.58795846 0.58062476 0.57418281\n",
            " 0.56864387 0.56400847 0.56026787 0.55740434 0.55539185 0.55419713\n",
            " 0.55378187 0.5541023  0.55511057 0.55675668 0.55898786 0.56175053\n",
            " 0.56498975 0.56865072 0.57267809 0.57701755 0.58161581 0.58642036\n",
            " 0.59138    0.59644616 0.60157132 0.60671055]\n",
            "23 day output [[0.611822]]\n",
            "24 day input [0.83545159 0.87075582 0.87014183 0.90728802 0.93952232 0.93430343\n",
            " 0.90268312 0.8762817  0.87443974 0.87689568 0.86584392 0.85202923\n",
            " 0.85110825 0.82439983 0.81918094 0.83575858 0.82194388 0.81242709\n",
            " 0.81918094 0.84435439 0.82839074 0.81519003 0.80137533 0.80045435\n",
            " 0.83913551 0.8348376  0.85602014 0.86492294 0.87536072 0.92233069\n",
            " 0.9312335  0.93706637 0.92325167 0.91250691 0.95241604 0.95517898\n",
            " 1.         0.94842512 0.92325167 0.94658316 0.9404433  0.93061951\n",
            " 0.92724259 0.93798735 0.9861853  0.97144962 0.94403332 0.92077017\n",
            " 0.90344316 0.89153862 0.88232511 0.87349153 0.863729   0.85262579\n",
            " 0.84031266 0.82713205 0.81342816 0.79945481 0.78536212 0.77122504\n",
            " 0.75707805 0.74294633 0.72886199 0.71487194 0.701038   0.68743277\n",
            " 0.67413527 0.66122735 0.64878923 0.63689852 0.62562782 0.61504346\n",
            " 0.6052047  0.5961625  0.58795846 0.58062476 0.57418281 0.56864387\n",
            " 0.56400847 0.56026787 0.55740434 0.55539185 0.55419713 0.55378187\n",
            " 0.5541023  0.55511057 0.55675668 0.55898786 0.56175053 0.56498975\n",
            " 0.56865072 0.57267809 0.57701755 0.58161581 0.58642036 0.59138\n",
            " 0.59644616 0.60157132 0.60671055 0.61182201]\n",
            "24 day output [[0.6168655]]\n",
            "25 day input [0.87075582 0.87014183 0.90728802 0.93952232 0.93430343 0.90268312\n",
            " 0.8762817  0.87443974 0.87689568 0.86584392 0.85202923 0.85110825\n",
            " 0.82439983 0.81918094 0.83575858 0.82194388 0.81242709 0.81918094\n",
            " 0.84435439 0.82839074 0.81519003 0.80137533 0.80045435 0.83913551\n",
            " 0.8348376  0.85602014 0.86492294 0.87536072 0.92233069 0.9312335\n",
            " 0.93706637 0.92325167 0.91250691 0.95241604 0.95517898 1.\n",
            " 0.94842512 0.92325167 0.94658316 0.9404433  0.93061951 0.92724259\n",
            " 0.93798735 0.9861853  0.97144962 0.94403332 0.92077017 0.90344316\n",
            " 0.89153862 0.88232511 0.87349153 0.863729   0.85262579 0.84031266\n",
            " 0.82713205 0.81342816 0.79945481 0.78536212 0.77122504 0.75707805\n",
            " 0.74294633 0.72886199 0.71487194 0.701038   0.68743277 0.67413527\n",
            " 0.66122735 0.64878923 0.63689852 0.62562782 0.61504346 0.6052047\n",
            " 0.5961625  0.58795846 0.58062476 0.57418281 0.56864387 0.56400847\n",
            " 0.56026787 0.55740434 0.55539185 0.55419713 0.55378187 0.5541023\n",
            " 0.55511057 0.55675668 0.55898786 0.56175053 0.56498975 0.56865072\n",
            " 0.57267809 0.57701755 0.58161581 0.58642036 0.59138    0.59644616\n",
            " 0.60157132 0.60671055 0.61182201 0.61686552]\n",
            "25 day output [[0.62180424]]\n",
            "26 day input [0.87014183 0.90728802 0.93952232 0.93430343 0.90268312 0.8762817\n",
            " 0.87443974 0.87689568 0.86584392 0.85202923 0.85110825 0.82439983\n",
            " 0.81918094 0.83575858 0.82194388 0.81242709 0.81918094 0.84435439\n",
            " 0.82839074 0.81519003 0.80137533 0.80045435 0.83913551 0.8348376\n",
            " 0.85602014 0.86492294 0.87536072 0.92233069 0.9312335  0.93706637\n",
            " 0.92325167 0.91250691 0.95241604 0.95517898 1.         0.94842512\n",
            " 0.92325167 0.94658316 0.9404433  0.93061951 0.92724259 0.93798735\n",
            " 0.9861853  0.97144962 0.94403332 0.92077017 0.90344316 0.89153862\n",
            " 0.88232511 0.87349153 0.863729   0.85262579 0.84031266 0.82713205\n",
            " 0.81342816 0.79945481 0.78536212 0.77122504 0.75707805 0.74294633\n",
            " 0.72886199 0.71487194 0.701038   0.68743277 0.67413527 0.66122735\n",
            " 0.64878923 0.63689852 0.62562782 0.61504346 0.6052047  0.5961625\n",
            " 0.58795846 0.58062476 0.57418281 0.56864387 0.56400847 0.56026787\n",
            " 0.55740434 0.55539185 0.55419713 0.55378187 0.5541023  0.55511057\n",
            " 0.55675668 0.55898786 0.56175053 0.56498975 0.56865072 0.57267809\n",
            " 0.57701755 0.58161581 0.58642036 0.59138    0.59644616 0.60157132\n",
            " 0.60671055 0.61182201 0.61686552 0.62180424]\n",
            "26 day output [[0.6266042]]\n",
            "27 day input [0.90728802 0.93952232 0.93430343 0.90268312 0.8762817  0.87443974\n",
            " 0.87689568 0.86584392 0.85202923 0.85110825 0.82439983 0.81918094\n",
            " 0.83575858 0.82194388 0.81242709 0.81918094 0.84435439 0.82839074\n",
            " 0.81519003 0.80137533 0.80045435 0.83913551 0.8348376  0.85602014\n",
            " 0.86492294 0.87536072 0.92233069 0.9312335  0.93706637 0.92325167\n",
            " 0.91250691 0.95241604 0.95517898 1.         0.94842512 0.92325167\n",
            " 0.94658316 0.9404433  0.93061951 0.92724259 0.93798735 0.9861853\n",
            " 0.97144962 0.94403332 0.92077017 0.90344316 0.89153862 0.88232511\n",
            " 0.87349153 0.863729   0.85262579 0.84031266 0.82713205 0.81342816\n",
            " 0.79945481 0.78536212 0.77122504 0.75707805 0.74294633 0.72886199\n",
            " 0.71487194 0.701038   0.68743277 0.67413527 0.66122735 0.64878923\n",
            " 0.63689852 0.62562782 0.61504346 0.6052047  0.5961625  0.58795846\n",
            " 0.58062476 0.57418281 0.56864387 0.56400847 0.56026787 0.55740434\n",
            " 0.55539185 0.55419713 0.55378187 0.5541023  0.55511057 0.55675668\n",
            " 0.55898786 0.56175053 0.56498975 0.56865072 0.57267809 0.57701755\n",
            " 0.58161581 0.58642036 0.59138    0.59644616 0.60157132 0.60671055\n",
            " 0.61182201 0.61686552 0.62180424 0.6266042 ]\n",
            "27 day output [[0.63123435]]\n",
            "28 day input [0.93952232 0.93430343 0.90268312 0.8762817  0.87443974 0.87689568\n",
            " 0.86584392 0.85202923 0.85110825 0.82439983 0.81918094 0.83575858\n",
            " 0.82194388 0.81242709 0.81918094 0.84435439 0.82839074 0.81519003\n",
            " 0.80137533 0.80045435 0.83913551 0.8348376  0.85602014 0.86492294\n",
            " 0.87536072 0.92233069 0.9312335  0.93706637 0.92325167 0.91250691\n",
            " 0.95241604 0.95517898 1.         0.94842512 0.92325167 0.94658316\n",
            " 0.9404433  0.93061951 0.92724259 0.93798735 0.9861853  0.97144962\n",
            " 0.94403332 0.92077017 0.90344316 0.89153862 0.88232511 0.87349153\n",
            " 0.863729   0.85262579 0.84031266 0.82713205 0.81342816 0.79945481\n",
            " 0.78536212 0.77122504 0.75707805 0.74294633 0.72886199 0.71487194\n",
            " 0.701038   0.68743277 0.67413527 0.66122735 0.64878923 0.63689852\n",
            " 0.62562782 0.61504346 0.6052047  0.5961625  0.58795846 0.58062476\n",
            " 0.57418281 0.56864387 0.56400847 0.56026787 0.55740434 0.55539185\n",
            " 0.55419713 0.55378187 0.5541023  0.55511057 0.55675668 0.55898786\n",
            " 0.56175053 0.56498975 0.56865072 0.57267809 0.57701755 0.58161581\n",
            " 0.58642036 0.59138    0.59644616 0.60157132 0.60671055 0.61182201\n",
            " 0.61686552 0.62180424 0.6266042  0.63123435]\n",
            "28 day output [[0.63566715]]\n",
            "29 day input [0.93430343 0.90268312 0.8762817  0.87443974 0.87689568 0.86584392\n",
            " 0.85202923 0.85110825 0.82439983 0.81918094 0.83575858 0.82194388\n",
            " 0.81242709 0.81918094 0.84435439 0.82839074 0.81519003 0.80137533\n",
            " 0.80045435 0.83913551 0.8348376  0.85602014 0.86492294 0.87536072\n",
            " 0.92233069 0.9312335  0.93706637 0.92325167 0.91250691 0.95241604\n",
            " 0.95517898 1.         0.94842512 0.92325167 0.94658316 0.9404433\n",
            " 0.93061951 0.92724259 0.93798735 0.9861853  0.97144962 0.94403332\n",
            " 0.92077017 0.90344316 0.89153862 0.88232511 0.87349153 0.863729\n",
            " 0.85262579 0.84031266 0.82713205 0.81342816 0.79945481 0.78536212\n",
            " 0.77122504 0.75707805 0.74294633 0.72886199 0.71487194 0.701038\n",
            " 0.68743277 0.67413527 0.66122735 0.64878923 0.63689852 0.62562782\n",
            " 0.61504346 0.6052047  0.5961625  0.58795846 0.58062476 0.57418281\n",
            " 0.56864387 0.56400847 0.56026787 0.55740434 0.55539185 0.55419713\n",
            " 0.55378187 0.5541023  0.55511057 0.55675668 0.55898786 0.56175053\n",
            " 0.56498975 0.56865072 0.57267809 0.57701755 0.58161581 0.58642036\n",
            " 0.59138    0.59644616 0.60157132 0.60671055 0.61182201 0.61686552\n",
            " 0.62180424 0.6266042  0.63123435 0.63566715]\n",
            "29 day output [[0.63987774]]\n",
            "[[0.5741828083992004], [0.5686438679695129], [0.5640084743499756], [0.5602678656578064], [0.5574043393135071], [0.5553918480873108], [0.5541971325874329], [0.5537818670272827], [0.5541023015975952], [0.5551105737686157], [0.5567566752433777], [0.5589878559112549], [0.5617505311965942], [0.5649897456169128], [0.5686507225036621], [0.5726780891418457], [0.5770175457000732], [0.5816158056259155], [0.5864203572273254], [0.5913800001144409], [0.59644615650177], [0.6015713214874268], [0.6067105531692505], [0.6118220090866089], [0.6168655157089233], [0.6218042373657227], [0.6266041994094849], [0.631234347820282], [0.6356671452522278], [0.6398777365684509]]\n"
          ]
        }
      ]
    },
    {
      "cell_type": "code",
      "source": [
        "day_new=np.arange(1,101)\n",
        "day_pred=np.arange(101,131)\n",
        "\n",
        "import matplotlib.pyplot as plt\n",
        "\n",
        "len(df1)\n"
      ],
      "metadata": {
        "colab": {
          "base_uri": "https://localhost:8080/"
        },
        "id": "0IQMbl1OCmeC",
        "outputId": "06c19300-5f8c-41b7-f085-7ef1ab39e74d"
      },
      "execution_count": null,
      "outputs": [
        {
          "output_type": "execute_result",
          "data": {
            "text/plain": [
              "2710"
            ]
          },
          "metadata": {},
          "execution_count": 129
        }
      ]
    },
    {
      "cell_type": "code",
      "source": [
        "df3=df1.tolist()\n",
        "df3.extend(lst_output)\n",
        "plt.plot(df3[1000:])"
      ],
      "metadata": {
        "colab": {
          "base_uri": "https://localhost:8080/",
          "height": 283
        },
        "id": "tbgHpnJ8_t9G",
        "outputId": "f835a8ff-8c22-47bc-c1d7-602e520dd923"
      },
      "execution_count": null,
      "outputs": [
        {
          "output_type": "execute_result",
          "data": {
            "text/plain": [
              "[<matplotlib.lines.Line2D at 0x7f82bb7c4b10>]"
            ]
          },
          "metadata": {},
          "execution_count": 134
        },
        {
          "output_type": "display_data",
          "data": {
            "image/png": "[encoded data removed]",
            "text/plain": [
              "<Figure size 432x288 with 1 Axes>"
            ]
          },
          "metadata": {
            "needs_background": "light"
          }
        }
      ]
    }
  ]
}